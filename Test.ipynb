{
 "cells": [
  {
   "cell_type": "code",
   "execution_count": 1,
   "id": "eb8d4ca1-c8f4-453d-b095-bd535919aabe",
   "metadata": {},
   "outputs": [],
   "source": [
    "from postal.parser import parse_address\n",
    "from postal.expand import expand_address"
   ]
  },
  {
   "cell_type": "markdown",
   "id": "41db121f-a2e3-4b11-90bd-9441b518c67b",
   "metadata": {},
   "source": [
    "## Nível FÁCIL... (Endereço Americano)"
   ]
  },
  {
   "cell_type": "code",
   "execution_count": 33,
   "id": "fd533ed2-8d3c-4550-af7a-88c431044d63",
   "metadata": {},
   "outputs": [
    {
     "data": {
      "text/plain": [
       "[('4266', 'house_number'),\n",
       " ('earnhardt drive', 'road'),\n",
       " ('louisville', 'city'),\n",
       " ('kentucky', 'state'),\n",
       " ('40202', 'postcode'),\n",
       " ('united states', 'country')]"
      ]
     },
     "execution_count": 33,
     "metadata": {},
     "output_type": "execute_result"
    }
   ],
   "source": [
    "parse_address(\"\"\"\n",
    "4266 Earnhardt Drive\n",
    "Louisville\n",
    "Kentucky\n",
    "40202\n",
    "United States\n",
    "\"\"\")"
   ]
  },
  {
   "cell_type": "markdown",
   "id": "4a10401e-3def-4ec7-80d4-c66a9a7db040",
   "metadata": {},
   "source": [
    "## Nível MÉDIO... (Endereços/Ruas brasileiras)"
   ]
  },
  {
   "cell_type": "code",
   "execution_count": 2,
   "id": "fc2d0510-2904-4c76-bb26-7b1e5fea63bd",
   "metadata": {},
   "outputs": [
    {
     "data": {
      "text/plain": [
       "[('avenida rebouças', 'road'),\n",
       " ('1238', 'house_number'),\n",
       " ('apto 116', 'unit'),\n",
       " ('jardim américa', 'suburb'),\n",
       " ('são paulo', 'city'),\n",
       " ('sp', 'state'),\n",
       " ('03191-030', 'postcode')]"
      ]
     },
     "execution_count": 2,
     "metadata": {},
     "output_type": "execute_result"
    }
   ],
   "source": [
    "parse_address('Avenida Rebouças, 1238 - apto 116. Jardim América, São Paulo, SP, 03191-030')"
   ]
  },
  {
   "cell_type": "code",
   "execution_count": 3,
   "id": "37b44576-a410-46d8-8a5b-be71e75f0c37",
   "metadata": {},
   "outputs": [
    {
     "data": {
      "text/plain": [
       "['rua 24 de abril']"
      ]
     },
     "execution_count": 3,
     "metadata": {},
     "output_type": "execute_result"
    }
   ],
   "source": [
    "expand_address(\"Rua vinte e quatro de Abril\")"
   ]
  },
  {
   "cell_type": "code",
   "execution_count": 4,
   "id": "cb71fa3e-50ab-4d81-917d-71ceaabd52df",
   "metadata": {},
   "outputs": [
    {
     "data": {
      "text/plain": [
       "['rua xxv de marco', 'rua 25 de marco']"
      ]
     },
     "execution_count": 4,
     "metadata": {},
     "output_type": "execute_result"
    }
   ],
   "source": [
    "expand_address(\"Rua XXV de Março\")"
   ]
  },
  {
   "cell_type": "markdown",
   "id": "18afd266-bbdb-45b2-9c71-9f60d6fc7a0a",
   "metadata": {},
   "source": [
    "Caixa Postal "
   ]
  },
  {
   "cell_type": "code",
   "execution_count": 13,
   "id": "2f5743f8-eb97-4d12-8df8-f21965711076",
   "metadata": {},
   "outputs": [
    {
     "data": {
      "text/plain": [
       "[('caixa postal 9591', 'po_box'),\n",
       " ('são paulo', 'city'),\n",
       " ('sp', 'state'),\n",
       " ('03191-030', 'postcode')]"
      ]
     },
     "execution_count": 13,
     "metadata": {},
     "output_type": "execute_result"
    }
   ],
   "source": [
    "parse_address('Caixa Postal 9591, São Paulo, SP, 03191-030')"
   ]
  },
  {
   "cell_type": "markdown",
   "id": "e62b7c58-2aec-43c4-a090-0d1f6ad61868",
   "metadata": {},
   "source": [
    "### Endereços de Brasília (Hard-Hard)"
   ]
  },
  {
   "cell_type": "code",
   "execution_count": 18,
   "id": "b632f52d-1dfb-43dc-8d78-f45fc6a3ddfa",
   "metadata": {},
   "outputs": [
    {
     "data": {
      "text/plain": [
       "[('sia quadra 07,100 bloco 3 lojas', 'road'),\n",
       " ('12/13', 'house_number'),\n",
       " ('brasília', 'city'),\n",
       " ('df', 'state'),\n",
       " ('71.208900', 'country_region'),\n",
       " ('brasil', 'country')]"
      ]
     },
     "execution_count": 18,
     "metadata": {},
     "output_type": "execute_result"
    }
   ],
   "source": [
    "parse_address(\"SIA QUADRA 07,100, BLOCO 3, LOJAS 12/13 BRASÍLIA, DF, 71.208900, BRASIL\")"
   ]
  },
  {
   "cell_type": "code",
   "execution_count": 19,
   "id": "21177c3c-001a-4414-ad5c-da154fa2cc24",
   "metadata": {},
   "outputs": [
    {
     "data": {
      "text/plain": [
       "[('conjunto 16 lote 47 lojas 1 a 4', 'house'),\n",
       " ('águas claras', 'city'),\n",
       " ('df', 'state'),\n",
       " ('cep 71.988720', 'postcode')]"
      ]
     },
     "execution_count": 19,
     "metadata": {},
     "output_type": "execute_result"
    }
   ],
   "source": [
    "parse_address(\"CONJUNTO 16, LOTE 47, LOJAS 1 A 4, ÁGUAS CLARAS – DF CEP: 71.988720\")"
   ]
  },
  {
   "cell_type": "code",
   "execution_count": 20,
   "id": "f9409366-f310-4c3d-b7ee-a784205e90bb",
   "metadata": {},
   "outputs": [
    {
     "data": {
      "text/plain": [
       "[('rua 05/08 chácara 230', 'road'),\n",
       " ('lote 01a', 'house_number'),\n",
       " ('brasília', 'city'),\n",
       " ('df', 'state'),\n",
       " ('cep 72.007090', 'postcode')]"
      ]
     },
     "execution_count": 20,
     "metadata": {},
     "output_type": "execute_result"
    }
   ],
   "source": [
    "parse_address(\"RUA 05/08, CHÁCARA 230, LOTE 01A, BRASÍLIA – DF CEP: 72.007090\")"
   ]
  },
  {
   "cell_type": "code",
   "execution_count": 24,
   "id": "5afec371-8a69-4e96-9dad-e55a0913387b",
   "metadata": {},
   "outputs": [
    {
     "data": {
      "text/plain": [
       "[('shis qi 05 bl. f lj. 77', 'road'),\n",
       " ('lago', 'city'),\n",
       " ('sul', 'suburb'),\n",
       " ('brasília', 'city'),\n",
       " ('df', 'state'),\n",
       " ('71.615560', 'country_region'),\n",
       " ('brasil', 'country')]"
      ]
     },
     "execution_count": 24,
     "metadata": {},
     "output_type": "execute_result"
    }
   ],
   "source": [
    "parse_address(\"SHIS QI 05 BL. F LJ. 77, LAGO SUL BRASÍLIA, DF, 71.615560, Brasil\")"
   ]
  },
  {
   "cell_type": "code",
   "execution_count": 30,
   "id": "814af988-7a01-41c6-bd8b-fb654a8745ae",
   "metadata": {},
   "outputs": [
    {
     "data": {
      "text/plain": [
       "[('rod df 001 km 23/26 qd 2 com bl b l', 'road'),\n",
       " ('3/4', 'house_number'),\n",
       " ('lj6/8 c solar bsb jd.botânico', 'house'),\n",
       " ('brasília', 'city'),\n",
       " ('df', 'state'),\n",
       " ('cep 71.680349', 'postcode'),\n",
       " ('brasil', 'country')]"
      ]
     },
     "execution_count": 30,
     "metadata": {},
     "output_type": "execute_result"
    }
   ],
   "source": [
    "parse_address(\"ROD DF 001 KM 23/26 QD 2 COM, BL B L 3/4 LJ6/8 C SOLAR BSB, JD.BOTÂNICO, BRASÍLIA, DF, CEP 71.680349, BRASIL\")"
   ]
  },
  {
   "cell_type": "markdown",
   "id": "c8909998-edbc-4418-9b1b-6e6b52096717",
   "metadata": {},
   "source": [
    "## Nível HARD... Hrvatske adrese/ulice (Endereços croatas)"
   ]
  },
  {
   "cell_type": "markdown",
   "id": "e92dce1e-001e-452a-8921-4fe01c257fbd",
   "metadata": {},
   "source": [
    "Veja o Documento HRV.pdf..."
   ]
  },
  {
   "cell_type": "code",
   "execution_count": 10,
   "id": "16ef6733-9afc-498d-86fb-cf68b80927c3",
   "metadata": {},
   "outputs": [
    {
     "data": {
      "text/plain": [
       "[('krapinska', 'road'),\n",
       " ('17/i', 'house_number'),\n",
       " ('stan 4', 'unit'),\n",
       " ('hr-10000', 'postcode'),\n",
       " ('zagreb', 'city'),\n",
       " ('hrvatska', 'country')]"
      ]
     },
     "execution_count": 10,
     "metadata": {},
     "output_type": "execute_result"
    }
   ],
   "source": [
    "parse_address(\"Krapinska 17/I stan 4, HR-10000, ZAGREB, HRVATSKA \") # Quarto 23 em Croata"
   ]
  },
  {
   "cell_type": "code",
   "execution_count": 11,
   "id": "e89c7439-8eee-4e15-9261-8ec497b07ae3",
   "metadata": {},
   "outputs": [
    {
     "data": {
      "text/plain": [
       "[('branimirova', 'road'),\n",
       " ('4', 'house_number'),\n",
       " ('kanfanar', 'city'),\n",
       " ('hr-52341', 'postcode'),\n",
       " ('žminj', 'city'),\n",
       " ('hrvatska', 'country')]"
      ]
     },
     "execution_count": 11,
     "metadata": {},
     "output_type": "execute_result"
    }
   ],
   "source": [
    "parse_address(\"Branimirova 4, Kanfanar, HR-52341, ŽMINJ, HRVATSKA\")"
   ]
  },
  {
   "cell_type": "markdown",
   "id": "ba73b293-02a4-42cf-990e-52deca0467a7",
   "metadata": {},
   "source": [
    "Caixa Postal..."
   ]
  },
  {
   "cell_type": "code",
   "execution_count": 12,
   "id": "3aabc324-090d-49ff-bb6b-6c9181e75e09",
   "metadata": {},
   "outputs": [
    {
     "data": {
      "text/plain": [
       "[('p.p. 105', 'po_box'),\n",
       " ('hr-21001', 'postcode'),\n",
       " ('split', 'city'),\n",
       " ('croatia', 'country')]"
      ]
     },
     "execution_count": 12,
     "metadata": {},
     "output_type": "execute_result"
    }
   ],
   "source": [
    "parse_address(\"P.P. 105, HR-21001, SPLIT, CROATIA\")"
   ]
  },
  {
   "cell_type": "code",
   "execution_count": null,
   "id": "e23a6596-a687-465a-aedf-b562ff459b8e",
   "metadata": {},
   "outputs": [],
   "source": []
  }
 ],
 "metadata": {
  "kernelspec": {
   "display_name": "Python 3 (ipykernel)",
   "language": "python",
   "name": "python3"
  },
  "language_info": {
   "codemirror_mode": {
    "name": "ipython",
    "version": 3
   },
   "file_extension": ".py",
   "mimetype": "text/x-python",
   "name": "python",
   "nbconvert_exporter": "python",
   "pygments_lexer": "ipython3",
   "version": "3.12.0rc1"
  }
 },
 "nbformat": 4,
 "nbformat_minor": 5
}
